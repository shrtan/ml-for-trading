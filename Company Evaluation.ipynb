{
 "cells": [
  {
   "cell_type": "markdown",
   "metadata": {},
   "source": [
    "Assume there is a true value of a company:<br>\n",
    "<img src=\"images/Capture20.PNG\" style=\"width:300px;height:250px\"/><br>\n",
    "\n",
    "This \"true\" value is distinct from the value estimated by the market:\n",
    "<img src=\"images/Capture21.PNG\" style=\"width:300px;height:250px\"/><br>\n",
    "If stock price is above \"true\" price, it's a selling opportunity.<br>\n",
    "\n",
    "Ways to estimate the \"true\" value of the company:<br>\n",
    "- Instrinsic Value: based on future dividends the company will pay (If I own a stock how much money will I get in the future and what is that worth going forward)\n",
    "- Book Value: based on assets the company owns (Sum of all assets)\n",
    "- Market Cap: value of stock on the market and number of outstanding (What the market thinks the company is worth) <br>"
   ]
  },
  {
   "cell_type": "markdown",
   "metadata": {},
   "source": [
    "<img src=\"images/Capture22.PNG\" style=\"width:500px;height:300px\"/><br>\n",
    "If 1 dollar is promised in the future, the price of the bond currently goes down. A promise of a dollar in 2 years is less than a promise of a dollar in a year and even less than a dollar right now.<br>\n",
    "Higher interest rate assets decrease further in the future than a lower interest rate assest. (green vs blue)"
   ]
  },
  {
   "cell_type": "markdown",
   "metadata": {},
   "source": [
    "# Intrinsic Value\n",
    "\n",
    "**Only considering dividends, how much value is the company expected to generate over its lifetime?**<br style = “line-height:2;”> \n",
    "If I own a share of a company, I will get cash payments, each year or each quarter. Ex: If I own an APPLE stock, they pay about 1 dollar a year. If they pay that every year, what is the value of the payment over time.<br>\n",
    "The interest rate indicates how **risky** a company is.<br>\n",
    "If I'm as assured that the company will pay me a dollar in one year as the US Gov will pay in a bond, then the IR should be same as the US Gov bond rate. If I'm less certain that the company is going to pay me at that rate, then the IR needs to be a little higher.<br>\n",
    "This IR is called the discount rate. DR lower => If I'm more certain company will pay me divident every year.<br><br>\n",
    "\n",
    "*Ex: If DR of a company = 5%:*<br>\n",
    "<img src=\"images/Capture23.PNG\" style=\"width:500px;height:300px\"/><br><br>\n",
    "\n",
    "<img src=\"images/Capture24.PNG\" style=\"width:500px;height:300px\"/><br>"
   ]
  },
  {
   "cell_type": "markdown",
   "metadata": {},
   "source": [
    "# Book Value\n",
    "\n",
    "**What is the company worth, \"on the books\"? That is, if the company owner(s) sold all the assets (that can be sold) and paid off all dues, how much money would they make/lose?**<br style = “line-height:2;”> \n",
    "\n",
    "<img src=\"images/Capture25.PNG\" style=\"width:400px;height:250px\"/><br> \n",
    "*Intangible assests:* things that are difficult to put a price on - value of grant, patent<br>\n",
    "*Liabilities:* loans that are owed<br style = “line-height:2;”> \n",
    "\n",
    "Company owns 4 factories worth about 10 million each, 3 important patents values at 5 million and a loan of 10 million. So total value is **30 million**"
   ]
  },
  {
   "cell_type": "markdown",
   "metadata": {},
   "source": [
    "# Market Capitalization\n",
    "\n",
    "<img src=\"images/Capture26.PNG\" style=\"width:350px;height:50px\"/><br style = “line-height:2;”> \n",
    "\n",
    "number of shares are owned by people and the current market price\n",
    "\n",
    "**What is the company worth on the market? In other words, how much money will you have to pay to buy the entire company.**"
   ]
  },
  {
   "cell_type": "markdown",
   "metadata": {},
   "source": [
    "<img src=\"images/Capture27.PNG\" style=\"width:500px;height:300px\"/><br style = “line-height:1;”> \n",
    "\n",
    "Yes, I will buy it right away!\n",
    "\n",
    "Ignoring the intrinsic value, if I buy the entire company off the market (for 75M) and immediately sell it (by breaking up its assets) for its book value (80M), I have a 5M profit right there!<br style = “line-height:1;”> \n",
    "\n",
    "Even if I are buying some stocks (instead of the whole company), the stock price is expected to increase (as it is currently undervalued).<br style = “line-height:2;”> \n",
    "\n",
    "- This is why stocks very rarely go below book value because then a buyer will buy the entire company.<br>\n",
    "- Many stock trading strategies look for deviations between intrinsic value and market cap. If intrinsic value drops significantly and the stock price (market cap) is high, it is worthwhile to short that stock. Or if dividends are going up and market cap is low, it might be an opportunity to buy the stock. \n",
    "- Book value provides a lowest price. When stock price begins to approach book value, I can assume that the value is not going to go below the book value. "
   ]
  }
 ],
 "metadata": {
  "kernelspec": {
   "display_name": "Python 3",
   "language": "python",
   "name": "python3"
  },
  "language_info": {
   "codemirror_mode": {
    "name": "ipython",
    "version": 3
   },
   "file_extension": ".py",
   "mimetype": "text/x-python",
   "name": "python",
   "nbconvert_exporter": "python",
   "pygments_lexer": "ipython3",
   "version": "3.7.6"
  }
 },
 "nbformat": 4,
 "nbformat_minor": 4
}
