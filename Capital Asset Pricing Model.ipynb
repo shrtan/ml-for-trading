{
 "cells": [
  {
   "cell_type": "markdown",
   "metadata": {},
   "source": [
    "# Portfolio\n",
    "\n",
    "<img src=\"images/Capture28.PNG\" style=\"width:450px;height:300px\"/><br style = “line-height:2;”> \n",
    "\n",
    "Since **shorting** of a stock is allowed, I need to consider abs(weight)<br style = “line-height:2;”>\n",
    "\n",
    "<img src=\"images/Capture29.PNG\" style=\"width:450px;height:300px\"/>"
   ]
  },
  {
   "cell_type": "markdown",
   "metadata": {},
   "source": [
    "# Market Portfolio\n",
    "\n",
    "When someone refers to the *market*, they are usually referring to an index that broadly covers are large set of stocks. Best example of one is the **US is SP500**, which represents the 500 largest companies traded on exchanges and that index changes each day according to prices of all of its components.<br style = “line-height:1;”> \n",
    "**UK: FTA<br>Japan: TOPIX**<br style = “line-height:2;”>\n",
    "\n",
    "To calculate the market cap of stock i, take its market cap and divide by sum of market caps of all other stocks. *(market cap = number of stocks x market price of stock)*<br style = “line-height:2;”>\n",
    "\n",
    "<img src=\"images/Capture30.PNG\" style=\"width:450px;height:300px\"/><br style = “line-height:2;”>\n",
    "\n",
    "The SP500 is divided into 10 sectors and if one sector (island) is affected by positive/negative news, then only that particular sector will be affected usually independent of the others. <br style = “line-height:2;”>\n",
    "\n",
    "*NOTE: EXON and APPLE have large weights in SP500, both around 5%. The rest are around 0.1%.* "
   ]
  },
  {
   "attachments": {},
   "cell_type": "markdown",
   "metadata": {},
   "source": [
    "# CAPM Equation\n",
    "\n",
    "<img src=\"images/Capture31.PNG\" style=\"width:450px;height:100px\"/><br style = “line-height:2;”>\n",
    "\n",
    "**r<sub>i</sub>:** return of an individual stock i on particular day **t** (one of the stocks in SP500)<br>\n",
    "**r<sub>m</sub>:** return on market (ex: for US usually SP500)<br>\n",
    "*This implies that a significant portion of the return of a particular stock is dependent on the market. Market moving up or down strongly affects every stock.*<br>\n",
    "\n",
    "**&#946;<sub>i</sub>**: The extent to which the market affects stock i is encapsulated here <br>\n",
    "*Many stocks have a &#946; near 1, so if market goes up or down 1%, the stock goes up or down 1%*<br>\n",
    "**&#945;<sub>i</sub>**: expected value of residual is 0<br style = “line-height:3;”>\n",
    "\n",
    "&#946; and &#945; come from daily returns<br style = “line-height:2;”>\n",
    "<img src=\"images/Capture32.PNG\" style=\"width:450px;height:200px\"/><br style = “line-height:1;”>\n",
    "- &#946; is the slope of this line \n",
    "- &#945; is the y-intercept of the line\n",
    "- In reality &#945; is not always 0 even though CAPM says it is\n",
    "- &#945; is an after the fact calculation, just because historically a stock gave a particular &#945; doesn't mean it'll give the same one in the future"
   ]
  },
  {
   "cell_type": "markdown",
   "metadata": {},
   "source": [
    "# CAPM vs Active Management\n",
    "\n",
    "<img src=\"images/Capture33.PNG\" style=\"width:450px;height:200px\"/><br style = “line-height:1;”><br>\n",
    "- Active Managers compare 2 stocks and say \"relative to market this stock will go up or down\" (since &#945; is relative to market)\n",
    "- If I believe that &#945; is random then I should be a passive investor"
   ]
  },
  {
   "cell_type": "markdown",
   "metadata": {},
   "source": [
    "# CAPM for Portfolios\n",
    "\n",
    "<img src=\"images/Capture34.PNG\" style=\"width:450px;height:200px\"/><br style = “line-height:1;”>"
   ]
  },
  {
   "cell_type": "markdown",
   "metadata": {},
   "source": [
    "<img src=\"images/Capture35.PNG\" style=\"width:450px;height:200px\"/><br style = “line-height:3;”>\n",
    "<img src=\"images/Capture36.PNG\" style=\"width:500px;height:300px\"/><br style = “line-height:1;”>"
   ]
  },
  {
   "cell_type": "markdown",
   "metadata": {},
   "source": [
    "# Arbitrage Pricing Theory\n",
    "\n",
    "<img src=\"images/Capture37.PNG\" style=\"width:500px;height:300px\"/><br style = “line-height:1;”>\n",
    "\n",
    "&#946;<sub>i</sub> (ocean or market) is further divided into &#946;'s for each sector (island) "
   ]
  }
 ],
 "metadata": {
  "kernelspec": {
   "display_name": "Python 3",
   "language": "python",
   "name": "python3"
  },
  "language_info": {
   "codemirror_mode": {
    "name": "ipython",
    "version": 3
   },
   "file_extension": ".py",
   "mimetype": "text/x-python",
   "name": "python",
   "nbconvert_exporter": "python",
   "pygments_lexer": "ipython3",
   "version": "3.7.6"
  }
 },
 "nbformat": 4,
 "nbformat_minor": 4
}
