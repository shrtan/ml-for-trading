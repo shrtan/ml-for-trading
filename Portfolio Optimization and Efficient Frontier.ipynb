{
 "cells": [
  {
   "cell_type": "markdown",
   "metadata": {},
   "source": [
    "<img src=\"images/Capture47.PNG\" style=\"width:450px;height:200px\"/><br style = “line-height:1;”><br style = “line-height:2;”>\n",
    "<img src=\"images/Capture48.PNG\" style=\"width:450px;height:300px\"/><br style = “line-height:1;”><br>"
   ]
  },
  {
   "cell_type": "markdown",
   "metadata": {},
   "source": [
    "# Markowitz \n",
    "\n",
    "- An optimal combination of stocks can be found\n",
    "- Before Markowitz, people belived that bonds yielded the lowest risk\n",
    "- He said that a combination of stocks and bonds actually has lower risk "
   ]
  },
  {
   "cell_type": "markdown",
   "metadata": {},
   "source": [
    "# Mean Variance Optimization\n",
    "\n",
    "<img src=\"images/Capture49.PNG\" style=\"width:450px;height:300px\"/><br style = “line-height:1;”><br>\n",
    "Target return can be any number between lowest return and highest return of the stocks\n",
    "\n",
    "# Efficient Frontier\n",
    "\n",
    "For any particular return level, there is an optimal portfolio\n",
    "<img src=\"images/Capture50.PNG\" style=\"width:450px;height:300px\"/><br style = “line-height:1;”>\n",
    "\n",
    "Sometimes as return is reduced, the the risk starts increasing again. So only portfolios above a certain line are considered. <br>\n",
    "That line is called **efficient frontier**<br>\n",
    "<img src=\"images/Capture51.PNG\" style=\"width:450px;height:300px\"/><br style = “line-height:1;”>\n",
    "\n",
    "If a tangent line is drawn from the origin to the efficient frontier, the point is the max **Sharpe Ratio**<br>\n",
    "<img src=\"images/Capture52.PNG\" style=\"width:450px;height:300px\"/><br style = “line-height:1;”>"
   ]
  }
 ],
 "metadata": {
  "kernelspec": {
   "display_name": "Python 3",
   "language": "python",
   "name": "python3"
  },
  "language_info": {
   "codemirror_mode": {
    "name": "ipython",
    "version": 3
   },
   "file_extension": ".py",
   "mimetype": "text/x-python",
   "name": "python",
   "nbconvert_exporter": "python",
   "pygments_lexer": "ipython3",
   "version": "3.7.6"
  }
 },
 "nbformat": 4,
 "nbformat_minor": 4
}
