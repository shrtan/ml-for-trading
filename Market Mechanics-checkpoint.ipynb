{
 "cells": [
  {
   "cell_type": "markdown",
   "metadata": {},
   "source": [
    "# Order"
   ]
  },
  {
   "attachments": {},
   "cell_type": "markdown",
   "metadata": {},
   "source": [
    "<img src=\"Capture11.PNG\" style=\"width:250px;height:250px\"/>\n",
    "\n",
    "- Do I want to sell or buy a stock?\n",
    "- shares: Tell broker how many shares I want to buy or sell\n",
    "- Market: I'm willing to accept a good price, but essentially the price the market is currently bearing\n",
    "- Limit: I don't want to pay higher than a certain price or sell for lower than a certian price\n",
    "- Price: If it's a market order, then I can't specify a price because I'm willing to pay/sell for market price\n",
    "\n",
    "Example <br>\n",
    "<img src=\"Capture12.PNG\" style=\"width:400px;height:200px\"/>"
   ]
  },
  {
   "cell_type": "markdown",
   "metadata": {},
   "source": [
    "# Order Book"
   ]
  },
  {
   "attachments": {},
   "cell_type": "markdown",
   "metadata": {},
   "source": [
    "Suppose A made a order: BUY, IBM, 100, LIMIT, 99.95 <br>\n",
    "The exchnage adds this to its order book<br>\n",
    "B made a sell order: SELL, IBM, 1000, LIMIT, 100 <br>\n",
    "There is no one willing to buy at 100, so the exchange has to add this to the order book. \n",
    "\n",
    "<img src=\"Capture13.PNG\" style=\"width:400px;height:100px\"/>\n",
    "<br>\n",
    "More orders come in:\n",
    "<img src=\"Capture14.PNG\" style=\"width:500px;height:300px\"/>\n",
    "<br><br>\n",
    "If I put in a SELL order (at market value), I will sell the first 100 shares at 99.95, the next 50 at 99.90, and so on.<br>\n",
    "In case of a BUY order, the market value won't change for the first 1000 shares.<br>\n",
    "So, depending on the volume of trade, the value of the stock will likely go down because there is more selling pressure.<br>\n",
    "<br>\n",
    "A new order comes in: BUY, IBM, 100, MARKET<br>\n",
    "The exchange looks at the order book and sees that there are lots of shares for sale here and wants to give its client the lowest price, so they give the client 100 shares of IBM sell order priced at 100. <br>\n",
    "The order book will look like this:\n",
    "<img src=\"Capture15.PNG\" style=\"width:400px;height:300px\"/>\n",
    "\n",
    "<br>\n",
    "After a few transactions:\n",
    "<img src=\"Capture16.PNG\" style=\"width:500px;height:300px\"/>"
   ]
  },
  {
   "cell_type": "markdown",
   "metadata": {},
   "source": [
    "# Short Selling"
   ]
  },
  {
   "attachments": {},
   "cell_type": "markdown",
   "metadata": {},
   "source": [
    "I want to sell IBM stocks, Lisa wants to buy them because she thinks the price will go up. <br>\n",
    "<img src=\"Capture17.PNG\" style=\"width:700px;height:300px\"/><br>\n",
    "So through my broker, I borrow 100 shares priced at 100 from Joe and immediately sell them to Lisa.<br>\n",
    "Now I have 10,000 in my account, but I owe Joe 100 stocks of IBM. <br><br>\n",
    "\n",
    "<img src=\"Capture18.PNG\" style=\"width:700px;height:300px\"/> <br>\n",
    "\n",
    "<img src=\"Capture19.PNG\" style=\"width:700px;height:300px\"/> <br>\n",
    "The broker is doing all these transactions. <br>\n"
   ]
  }
 ],
 "metadata": {
  "kernelspec": {
   "display_name": "Python 3",
   "language": "python",
   "name": "python3"
  },
  "language_info": {
   "codemirror_mode": {
    "name": "ipython",
    "version": 3
   },
   "file_extension": ".py",
   "mimetype": "text/x-python",
   "name": "python",
   "nbconvert_exporter": "python",
   "pygments_lexer": "ipython3",
   "version": "3.7.6"
  }
 },
 "nbformat": 4,
 "nbformat_minor": 4
}
