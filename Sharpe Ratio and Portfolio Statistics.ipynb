{
 "cells": [
  {
   "cell_type": "markdown",
   "metadata": {},
   "source": [
    "# Portfolio Statistics"
   ]
  },
  {
   "cell_type": "markdown",
   "metadata": {},
   "source": [
    "Calculate the value of a portfolio day-by-day. Once the value is calculated, portfolio statistics can be calculated.<br>\n",
    "<img src=\"images/Capture3.PNG\" style=\"width:600px;height:300px\"/><br>\n",
    "<img src=\"images/Capture4.PNG\" style=\"width:600px;height:300px\"/><br>\n",
    "\n",
    "Step 1: Normalize the prices by row 1<br>\n",
    "Step 2: Multiply normed values by the allocations so that data after the first row is also sized ccordingly<br>\n",
    "Step 3: Multiple allocations by initial value invested. This gives the amount over time. (Ex: 100,000 is the inital investment of stock 1 with weight 0.4, so on day 1 the value is 40,000 and the rest of the rows refelct values after that one.<br>\n",
    "Step 4: Total value of the portfolio over each day. Sum of all the stock values.<br>"
   ]
  },
  {
   "cell_type": "markdown",
   "metadata": {},
   "source": [
    "<img src=\"images/Capture5.PNG\" style=\"width:700px;height:300px\"/><br>"
   ]
  },
  {
   "cell_type": "markdown",
   "metadata": {},
   "source": [
    "# Sharpe Ratio"
   ]
  },
  {
   "cell_type": "markdown",
   "metadata": {},
   "source": [
    "<img src=\"images/Capture6.PNG\" style=\"width:400px;height:100px\"/><br>\n",
    "\n",
    "Examples of risk free rate:<br>\n",
    "<img src=\"images/Capture7.PNG\" style=\"width:200px;height:200px\"/><br>\n",
    "\n",
    "If annual risk-free rate is 0.1, since I'm calculating SR daily, convert it to a daily rate:<br>\n",
    "<img src=\"images/Capture8.PNG\" style=\"width:250px;height:50px\"/><br>\n",
    "\n",
    "When a constant is plugged in a std. deviation calculation, SR results in:<br>\n",
    "<img src=\"images/Capture9.PNG\" style=\"width:400px;height:200px\"/><br>"
   ]
  },
  {
   "cell_type": "markdown",
   "metadata": {},
   "source": [
    "<img src=\"images/Capture10.PNG\" style=\"width:700px;height:300px\"/><br>\n",
    "\n",
    "https://classroom.udacity.com/courses/ud501/lessons/e7350061-ed19-4201-bf71-1612aeb0cb69/concepts/498d18dd-bdb7-4133-b2e8-9bfe6f6b7840"
   ]
  }
 ],
 "metadata": {
  "kernelspec": {
   "display_name": "Python 3",
   "language": "python",
   "name": "python3"
  },
  "language_info": {
   "codemirror_mode": {
    "name": "ipython",
    "version": 3
   },
   "file_extension": ".py",
   "mimetype": "text/x-python",
   "name": "python",
   "nbconvert_exporter": "python",
   "pygments_lexer": "ipython3",
   "version": "3.7.6"
  }
 },
 "nbformat": 4,
 "nbformat_minor": 4
}
